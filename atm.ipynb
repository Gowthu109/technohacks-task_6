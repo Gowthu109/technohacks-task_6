{
  "nbformat": 4,
  "nbformat_minor": 0,
  "metadata": {
    "colab": {
      "provenance": [],
      "authorship_tag": "ABX9TyMrcwfSx8cS92uRqfsc6wQl",
      "include_colab_link": true
    },
    "kernelspec": {
      "name": "python3",
      "display_name": "Python 3"
    },
    "language_info": {
      "name": "python"
    }
  },
  "cells": [
    {
      "cell_type": "markdown",
      "metadata": {
        "id": "view-in-github",
        "colab_type": "text"
      },
      "source": [
        "<a href=\"https://colab.research.google.com/github/Gowthu109/technohacks-task_6/blob/main/atm.ipynb\" target=\"_parent\"><img src=\"https://colab.research.google.com/assets/colab-badge.svg\" alt=\"Open In Colab\"/></a>"
      ]
    },
    {
      "cell_type": "code",
      "execution_count": 1,
      "metadata": {
        "colab": {
          "base_uri": "https://localhost:8080/"
        },
        "id": "wBnO-O1Ib3Gj",
        "outputId": "55b89467-d236-451a-964e-7f6ddfda0a83"
      },
      "outputs": [
        {
          "output_type": "stream",
          "name": "stdout",
          "text": [
            "1. Check Balance\n",
            "2. Deposit\n",
            "3. Withdraw\n",
            "4. Quit\n",
            "Enter your choice (1-4): 2\n",
            "Enter the amount to deposit: 50000\n",
            "Deposit successful. Your new balance is 50000.0\n",
            "1. Check Balance\n",
            "2. Deposit\n",
            "3. Withdraw\n",
            "4. Quit\n",
            "Enter your choice (1-4): 1\n",
            "Your balance is 50000.0\n",
            "1. Check Balance\n",
            "2. Deposit\n",
            "3. Withdraw\n",
            "4. Quit\n",
            "Enter your choice (1-4): 3\n",
            "Enter the amount to withdraw: 20000\n",
            "Withdrawal successful. Your new balance is 30000.0\n",
            "1. Check Balance\n",
            "2. Deposit\n",
            "3. Withdraw\n",
            "4. Quit\n",
            "Enter your choice (1-4): 1\n",
            "Your balance is 30000.0\n",
            "1. Check Balance\n",
            "2. Deposit\n",
            "3. Withdraw\n",
            "4. Quit\n",
            "Enter your choice (1-4): 4\n",
            "Thank you for using the ATM. Goodbye!\n"
          ]
        }
      ],
      "source": [
        "class ATM:\n",
        "    def __init__(self, balance=0):\n",
        "        self.balance = balance\n",
        "\n",
        "    def check_balance(self):\n",
        "        return self.balance\n",
        "\n",
        "    def deposit(self, amount):\n",
        "        self.balance += amount\n",
        "        return self.balance\n",
        "\n",
        "    def withdraw(self, amount):\n",
        "        if amount > self.balance:\n",
        "            return \"Insufficient funds\"\n",
        "        else:\n",
        "            self.balance -= amount\n",
        "            return self.balance\n",
        "\n",
        "# Example usage\n",
        "atm = ATM()\n",
        "\n",
        "while True:\n",
        "    print(\"1. Check Balance\")\n",
        "    print(\"2. Deposit\")\n",
        "    print(\"3. Withdraw\")\n",
        "    print(\"4. Quit\")\n",
        "\n",
        "    choice = input(\"Enter your choice (1-4): \")\n",
        "\n",
        "    if choice == \"1\":\n",
        "        balance = atm.check_balance()\n",
        "        print(f\"Your balance is {balance}\")\n",
        "    elif choice == \"2\":\n",
        "        amount = float(input(\"Enter the amount to deposit: \"))\n",
        "        balance = atm.deposit(amount)\n",
        "        print(f\"Deposit successful. Your new balance is {balance}\")\n",
        "    elif choice == \"3\":\n",
        "        amount = float(input(\"Enter the amount to withdraw: \"))\n",
        "        balance = atm.withdraw(amount)\n",
        "        if balance == \"Insufficient funds\":\n",
        "            print(\"Withdrawal failed. Insufficient funds.\")\n",
        "        else:\n",
        "            print(f\"Withdrawal successful. Your new balance is {balance}\")\n",
        "    elif choice == \"4\":\n",
        "        print(\"Thank you for using the ATM. Goodbye!\")\n",
        "        break\n",
        "    else:\n",
        "        print(\"Invalid choice. Please try again.\")\n"
      ]
    }
  ]
}